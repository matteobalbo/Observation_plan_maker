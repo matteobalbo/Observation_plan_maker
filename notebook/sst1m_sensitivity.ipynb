{
 "cells": [
  {
   "cell_type": "markdown",
   "id": "fbb1c19b",
   "metadata": {},
   "source": [
    "# Point source sensitivity\n",
    "## Introduction\n",
    "\n",
    "This notebook explains how to estimate the SST-1M sensitivity for a point-like IRF at a fixed zenith angle and fixed offset using the full containment IRFs. The significance is computed for a 1D analysis (On-OFF regions) and the LiMa formula.\n",
    "\n",
    "We use here an approximate approach with an energy dependent integration radius to take into account the variation of the PSF. We will first determine the 1D IRFs including a containment correction. \n",
    "\n",
    "We will be using the following Gammapy class:\n",
    "\n",
    "* `~gammapy.estimators.SensitivityEstimator`"
   ]
  },
  {
   "cell_type": "markdown",
   "id": "47a02fde",
   "metadata": {},
   "source": [
    "## Setup\n",
    "As usual, we'll start with some setup ..."
   ]
  },
  {
   "cell_type": "code",
   "execution_count": 1,
   "id": "c60e6b4e",
   "metadata": {},
   "outputs": [],
   "source": [
    "%matplotlib inline\n",
    "import matplotlib.pyplot as plt\n",
    "import numpy as np\n",
    "from astropy.io import fits\n",
    "import os"
   ]
  },
  {
   "cell_type": "code",
   "execution_count": 2,
   "id": "a727d7e1",
   "metadata": {},
   "outputs": [],
   "source": [
    "import astropy.units as u\n",
    "from astropy.coordinates import Angle, SkyCoord, EarthLocation\n",
    "\n",
    "from gammapy.irf import load_irf_dict_from_file\n",
    "from gammapy.makers import SpectrumDatasetMaker\n",
    "from gammapy.data import Observation, observatory_locations\n",
    "from gammapy.estimators import SensitivityEstimator\n",
    "from gammapy.datasets import SpectrumDataset, SpectrumDatasetOnOff\n",
    "from gammapy.maps import MapAxis, RegionGeom\n",
    "from pathlib import Path\n",
    "import pandas as pd"
   ]
  },
  {
   "cell_type": "code",
   "execution_count": 5,
   "id": "2517f8fd-bf83-42da-851b-4d3ce3e6bd4f",
   "metadata": {},
   "outputs": [
    {
     "name": "stdout",
     "output_type": "stream",
     "text": [
      "flux_sensitivity_stereo.h5\n"
     ]
    }
   ],
   "source": [
    "!ls ../IRFs/sensitivity"
   ]
  },
  {
   "cell_type": "code",
   "execution_count": 58,
   "id": "9bc11f4b-7801-4982-b1cd-b58522329a02",
   "metadata": {},
   "outputs": [],
   "source": [
    "# Setting up directories\n",
    "p = Path('..').resolve()\n",
    "sens_file = p / 'IRFs/sensitivity/flux_sensitivity_stereo.h5'\n",
    "with pd.HDFStore(sens_file) as f:\n",
    "    SST1M_Sensitivity = f.sensitivity[\"flux_sensitivity\"]\n",
    "    SST1M_Sensitivity_err_m = f.sensitivity[\"flux_sensitivity_err_minus\"]\n",
    "    SST1M_Sensitivity_err_p = f.sensitivity[\"flux_sensitivity_err_plus\"]\n",
    "    SST1M_Energy = f.sensitivity[\"energy\"]\n",
    "    SST1M_Energy_Lo = f.sensitivity[\"energy_min\"]\n",
    "    SST1M_Energy_Hi = f.sensitivity[\"energy_max\"]\n",
    "    mean_sens = np.mean(f.sensitivity[\"energy\"])"
   ]
  },
  {
   "cell_type": "code",
   "execution_count": 59,
   "id": "03d35700-fcd1-405c-91e1-73401e765fb0",
   "metadata": {},
   "outputs": [
    {
     "name": "stdout",
     "output_type": "stream",
     "text": [
      "i\tENERGY\tENERGY_LO\tENERGY_HI\tFluxSensitivity\tFluxSens_err_m\tFluxSens_err_p\n",
      "0\t0.13\t0.10\t0.16\tnan\tnan\tnan\n",
      "1\t0.20\t0.16\t0.25\tnan\tnan\tnan\n",
      "2\t0.32\t0.25\t0.40\tnan\tnan\tnan\n",
      "3\t0.50\t0.40\t0.63\tnan\tnan\tnan\n",
      "4\t0.79\t0.63\t1.00\t1.37e-10\t1.66e-11\t2.00e-11\n",
      "5\t1.26\t1.00\t1.58\t1.20e-11\t4.54e-13\t4.70e-13\n",
      "6\t2.00\t1.58\t2.51\t4.03e-12\t1.08e-13\t1.09e-13\n",
      "7\t3.16\t2.51\t3.98\t2.59e-12\t7.07e-14\t7.14e-14\n",
      "8\t5.01\t3.98\t6.31\t2.06e-12\t5.89e-14\t5.94e-14\n",
      "9\t7.94\t6.31\t10.00\t1.98e-12\t5.61e-14\t5.65e-14\n",
      "10\t12.59\t10.00\t15.85\t1.82e-12\t5.30e-14\t5.34e-14\n",
      "11\t19.95\t15.85\t25.12\t1.86e-12\t5.58e-14\t5.64e-14\n",
      "12\t31.62\t25.12\t39.81\t2.00e-12\t6.58e-14\t6.66e-14\n",
      "13\t50.12\t39.81\t63.10\t2.24e-12\t8.37e-14\t8.48e-14\n",
      "14\t79.43\t63.10\t100.00\t3.45e-12\t7.63e-14\t7.98e-14\n",
      "15\t125.89\t100.00\t158.49\t5.89e-12\t1.68e-13\t1.78e-13\n",
      "16\t199.53\t158.49\t251.19\tnan\tnan\tnan\n",
      "17\t316.23\t251.19\t398.11\tnan\tnan\tnan\n",
      "18\t501.19\t398.11\t630.96\tnan\tnan\tnan\n",
      "19\t794.33\t630.96\t1000.00\tnan\tnan\tnan\n"
     ]
    }
   ],
   "source": [
    "print('i\\tENERGY\\tENERGY_LO\\tENERGY_HI\\tFluxSensitivity\\tFluxSens_err_m\\tFluxSens_err_p')\n",
    "for i,(en,en_lo,en_hi,sens,sens_lo,sens_hi) in enumerate(zip(SST1M_Energy,SST1M_Energy_Lo,SST1M_Energy_Hi,SST1M_Sensitivity,SST1M_Sensitivity_err_m,SST1M_Sensitivity_err_p)):\n",
    "    print(f'{i}\\t{en:.2f}\\t{en_lo:.2f}\\t{en_hi:.2f}\\t{sens:.2e}\\t{sens_lo:.2e}\\t{sens_hi:.2e}')"
   ]
  },
  {
   "cell_type": "markdown",
   "id": "affdc1d6",
   "metadata": {},
   "source": [
    "## Define analysis region and energy binning\n",
    "\n",
    "Here we assume a source at 1.4 degree from pointing position. We perform a simple energy independent extraction for now with a radius of 0.1 degree."
   ]
  },
  {
   "cell_type": "code",
   "execution_count": 104,
   "id": "9b1554c8",
   "metadata": {},
   "outputs": [],
   "source": [
    "# I use the same energy binning used in the Flux Sensitivity file\n",
    "energy_axis = MapAxis.from_energy_bounds(\"0.63 TeV\", \"158.5 TeV\", nbin=12)\n",
    "energy_axis_true = MapAxis.from_energy_bounds(\n",
    "    \"0.2 TeV\", \"800 TeV\", nbin=100, name=\"energy_true\"\n",
    ")\n",
    "\n",
    "offset = 1.4 # deg\n",
    "geom = RegionGeom.create(f\"icrs;circle(0, {offset}, 0.1)\", axes=[energy_axis])\n",
    "\n",
    "empty_dataset = SpectrumDataset.create(\n",
    "    geom=geom, energy_axis_true=energy_axis_true\n",
    ")"
   ]
  },
  {
   "cell_type": "markdown",
   "id": "12d83a78",
   "metadata": {},
   "source": [
    "## Load IRFs and prepare dataset\n",
    "\n",
    "We extract the 1D IRFs from the full 3D IRFs provided by CTA. "
   ]
  },
  {
   "cell_type": "code",
   "execution_count": 61,
   "id": "259d7ebf-2717-49a9-82b1-fd991ec843c7",
   "metadata": {},
   "outputs": [
    {
     "name": "stdout",
     "output_type": "stream",
     "text": [
      "Filename: /Users/bowe46/WORK/SST-1M/ALL_repo/Observation_plan_maker/IRFs/data/sst1m_stereo/0_4/bcf/ze20_az180_nsb100_gc0.75/SST1M_stereo_Zen20deg_gcut0.75_irfs.fits\n",
      "No.    Name      Ver    Type      Cards   Dimensions   Format\n",
      "  0  PRIMARY       1 PrimaryHDU       4   ()      \n",
      "  1  EFFECTIVE AREA    1 BinTableHDU     38   1R x 5C   [20D, 20D, 8D, 8D, 160D]   \n",
      "  2  POINT SPREAD FUNCTION    1 BinTableHDU     47   1R x 7C   [20D, 20D, 8D, 8D, 16D, 16D, 2560D]   \n",
      "  3  ENERGY DISPERSION    1 BinTableHDU     44   1R x 7C   [50D, 50D, 50D, 50D, 8D, 8D, 20000D]   \n",
      "  4  BACKGROUND    1 BinTableHDU     39   1R x 5C   [20D, 20D, 16D, 16D, 320D]   \n",
      "ColDefs(\n",
      "    name = 'ENERG_LO'; format = '50D'; unit = 'TeV'; dim = '(50)'\n",
      "    name = 'ENERG_HI'; format = '50D'; unit = 'TeV'; dim = '(50)'\n",
      "    name = 'MIGRA_LO'; format = '50D'; dim = '(50)'\n",
      "    name = 'MIGRA_HI'; format = '50D'; dim = '(50)'\n",
      "    name = 'THETA_LO'; format = '8D'; unit = 'deg'; dim = '(8)'\n",
      "    name = 'THETA_HI'; format = '8D'; unit = 'deg'; dim = '(8)'\n",
      "    name = 'MATRIX'; format = '20000D'; dim = '(50,50,8)'\n",
      ")\n"
     ]
    }
   ],
   "source": [
    "IRF20_file = p / \"IRFs/data/sst1m_stereo/0_4/bcf/ze20_az180_nsb100_gc0.75/SST1M_stereo_Zen20deg_gcut0.75_irfs.fits\"\n",
    "IRF30_file = p / \"IRFs/data/sst1m_stereo/0_4/bcf/ze30_az180_nsb100_gc0.75/SST1M_stereo_Zen30deg_gcut0.75_irfs.fits\"\n",
    "IRF40_file = p / \"IRFs/data/sst1m_stereo/0_4/bcf/ze40_az180_nsb100_gc0.75/SST1M_stereo_Zen40deg_gcut0.75_irfs.fits\"\n",
    "\n",
    "hdul = fits.open(IRF20_file)\n",
    "hdul.info()\n",
    "print(hdul['ENERGY DISPERSION'].data.columns)\n",
    "Elo = hdul['ENERGY DISPERSION'].data['ENERG_LO']\n",
    "Ehi = hdul['ENERGY DISPERSION'].data['ENERG_HI']"
   ]
  },
  {
   "cell_type": "code",
   "execution_count": 62,
   "id": "8f4d1ac9-e1aa-482f-afcc-c56dab5d2453",
   "metadata": {},
   "outputs": [
    {
     "name": "stdout",
     "output_type": "stream",
     "text": [
      "[0.2] TeV\n",
      "[300.] TeV\n",
      "[0.1] TeV\n",
      "[4.] TeV\n"
     ]
    }
   ],
   "source": [
    "print(f'{hdul['ENERGY DISPERSION'].data['ENERG_LO'][:,0]} TeV')\n",
    "print(f'{hdul['ENERGY DISPERSION'].data['ENERG_HI'][:,-1]} TeV')\n",
    "print(f'{hdul['ENERGY DISPERSION'].data['MIGRA_LO'][:,0]} TeV')\n",
    "print(f'{hdul['ENERGY DISPERSION'].data['MIGRA_HI'][:,-1]} TeV')"
   ]
  },
  {
   "cell_type": "code",
   "execution_count": 63,
   "id": "0d721852-be27-4c39-88ed-2d9bd2add1bf",
   "metadata": {},
   "outputs": [
    {
     "name": "stdout",
     "output_type": "stream",
     "text": [
      "(1953830.40071076, -5461745.48215685, -2648150.15076259) m\n"
     ]
    },
    {
     "data": {
      "text/plain": [
       "{'cta_south': <EarthLocation (1953830.40071076, -5461745.48215685, -2648150.15076259) m>,\n",
       " 'cta_north': <EarthLocation (5326744.14419991, -1719670.68542112, 3051852.61422433) m>,\n",
       " 'hawc': <EarthLocation (-768048.67304, -5987726.52318414, 2064335.19214093) m>,\n",
       " 'hegra': <EarthLocation (5324402.17229679, 2922477.69543812, 1947565.59400008) m>,\n",
       " 'hess': <EarthLocation (5622482.08529426, 1665478.78910994, -2505121.94111838) m>,\n",
       " 'magic': <EarthLocation (5326859.67992517, -1719502.15154854, 3051856.77751797) m>,\n",
       " 'milagro': <EarthLocation (-1485314.58540702, -4958277.64987376, 3718745.87710186) m>,\n",
       " 'veritas': <EarthLocation (-1943186.26739753, -5074834.80871364, 3330487.41415047) m>,\n",
       " 'whipple': <EarthLocation (-1936925.93988308, -5078068.85469291, 3331761.38143003) m>,\n",
       " 'astri': <EarthLocation (5390438.56093766, -1597317.33800122, 3006942.84196311) m>,\n",
       " 'fact': <EarthLocation (5326841.28720322, -1719610.78188096, 3051827.86831929) m>}"
      ]
     },
     "execution_count": 63,
     "metadata": {},
     "output_type": "execute_result"
    }
   ],
   "source": [
    "location = observatory_locations[\"cta_south\"]\n",
    "print(location)\n",
    "location.lon\n",
    "observatory_locations"
   ]
  },
  {
   "cell_type": "code",
   "execution_count": 64,
   "id": "3df2a007-3cd6-4dcb-8bd9-31e2a9e28daa",
   "metadata": {},
   "outputs": [
    {
     "name": "stdout",
     "output_type": "stream",
     "text": [
      "['49.912173', '14.782195', '510']\n",
      "GeodeticLocation(lon=<Longitude 49.912173 deg>, lat=<Latitude 14.782195 deg>, height=<Quantity 510. m>)\n",
      "dtype = (float64, float64, float64)\n",
      "unit = m\n",
      "class = EarthLocation\n",
      "n_bad = 0\n",
      "\n",
      "None\n"
     ]
    }
   ],
   "source": [
    "loc_ondrejov = p / 'config' / 'location_ondrejov.txt'\n",
    "loc_ondrejov = os.fspath(loc_ondrejov.resolve())\n",
    "\n",
    "with open(loc_ondrejov, 'r') as f:\n",
    "    ondrejov = f.read()\n",
    "    ondrejov = ondrejov.split()\n",
    "    print(ondrejov)\n",
    "location = EarthLocation.from_geodetic(*ondrejov)\n",
    "print(location.geodetic)\n",
    "print(location.info)\n",
    "print(location.info.meta)"
   ]
  },
  {
   "cell_type": "code",
   "execution_count": 65,
   "id": "fb4b755c",
   "metadata": {},
   "outputs": [
    {
     "name": "stderr",
     "output_type": "stream",
     "text": [
      "/Users/bowe46/miniforge3/envs/digicamscheduling/lib/python3.12/site-packages/gammapy/data/observations.py:281: GammapyDeprecationWarning: Pointing will be required to be provided as FixedPointingInfo\n",
      "  warnings.warn(\n"
     ]
    }
   ],
   "source": [
    "irfs = load_irf_dict_from_file(IRF20_file)\n",
    "pointing = SkyCoord(\"0 deg\", \"0 deg\")\n",
    "obs = Observation.create(\n",
    "    pointing=pointing, irfs=irfs, livetime=\"50 h\", location=location\n",
    ")"
   ]
  },
  {
   "cell_type": "code",
   "execution_count": 66,
   "id": "d7b0c2e2",
   "metadata": {},
   "outputs": [],
   "source": [
    "spectrum_maker = SpectrumDatasetMaker(\n",
    "    selection=[\"exposure\", \"edisp\", \"background\"]\n",
    ")\n",
    "dataset = spectrum_maker.run(empty_dataset, obs)"
   ]
  },
  {
   "cell_type": "markdown",
   "id": "a6ecb833",
   "metadata": {},
   "source": [
    "Now we correct for the energy dependent region size:"
   ]
  },
  {
   "cell_type": "code",
   "execution_count": 67,
   "id": "00c69f8d",
   "metadata": {},
   "outputs": [],
   "source": [
    "containment = 0.68\n",
    "\n",
    "# correct exposure\n",
    "dataset.exposure *= containment\n",
    "\n",
    "# correct background estimation\n",
    "on_radii = obs.psf.containment_radius(\n",
    "    energy_true=energy_axis.center, offset=offset * u.deg, fraction=containment\n",
    ")\n",
    "factor = (1 - np.cos(on_radii)) / (1 - np.cos(geom.region.radius))\n",
    "dataset.background *= factor.value.reshape((-1, 1, 1))"
   ]
  },
  {
   "cell_type": "markdown",
   "id": "0d61437e",
   "metadata": {},
   "source": [
    "And finally define a `SpectrumDatasetOnOff` with an alpha of `0.2`. The off counts are created from the background model:"
   ]
  },
  {
   "cell_type": "code",
   "execution_count": 68,
   "id": "786729f6",
   "metadata": {},
   "outputs": [],
   "source": [
    "dataset_on_off = SpectrumDatasetOnOff.from_spectrum_dataset(\n",
    "    dataset=dataset, acceptance=1, acceptance_off=5\n",
    ")"
   ]
  },
  {
   "cell_type": "markdown",
   "id": "ee54d462",
   "metadata": {},
   "source": [
    "## Compute sensitivity\n",
    "\n",
    "We impose a minimal number of expected signal counts of 5 per bin and a minimal significance of 3 per bin. We assume an alpha of 0.2 (ratio between ON and OFF area).\n",
    "We then run the sensitivity estimator."
   ]
  },
  {
   "cell_type": "code",
   "execution_count": 103,
   "id": "6347d270",
   "metadata": {},
   "outputs": [
    {
     "name": "stderr",
     "output_type": "stream",
     "text": [
      "WARNING:root:Table column name energy will be deprecated by e_ref since v1.2\n"
     ]
    }
   ],
   "source": [
    "sensitivity_estimator = SensitivityEstimator(\n",
    "    gamma_min=5, n_sigma=3, bkg_syst_fraction=0.20\n",
    ")\n",
    "sensitivity_table = sensitivity_estimator.run(dataset_on_off)"
   ]
  },
  {
   "cell_type": "markdown",
   "id": "6a07ae79",
   "metadata": {},
   "source": [
    "## Results\n",
    "\n",
    "The results are given as an Astropy table. A column criterion allows to distinguish bins where the significance is limited by the signal statistical significance from bins where the sensitivity is limited by the number of signal counts.\n",
    "This is visible in the plot below."
   ]
  },
  {
   "cell_type": "code",
   "execution_count": 100,
   "id": "8d163673",
   "metadata": {},
   "outputs": [
    {
     "data": {
      "text/html": [
       "<div><i>Table length=12</i>\n",
       "<table id=\"table5519784272\" class=\"table-striped table-bordered table-condensed\">\n",
       "<thead><tr><th>energy</th><th>e_ref</th><th>e_min</th><th>e_max</th><th>e2dnde</th><th>excess</th><th>background</th><th>criterion</th></tr></thead>\n",
       "<thead><tr><th>TeV</th><th>TeV</th><th>TeV</th><th>TeV</th><th>erg / (s cm2)</th><th></th><th></th><th></th></tr></thead>\n",
       "<thead><tr><th>float64</th><th>float64</th><th>float64</th><th>float64</th><th>float64</th><th>float64</th><th>float64</th><th>bytes12</th></tr></thead>\n",
       "<tr><td>0.793175</td><td>0.793175</td><td>0.63</td><td>0.998615</td><td>6.66085e-11</td><td>5</td><td>0.195085</td><td>gamma</td></tr>\n",
       "<tr><td>1.25726</td><td>1.25726</td><td>0.998615</td><td>1.58291</td><td>5.59753e-12</td><td>18.7406</td><td>25.7183</td><td>significance</td></tr>\n",
       "<tr><td>1.99289</td><td>1.99289</td><td>1.58291</td><td>2.50907</td><td>3.02912e-12</td><td>24.4614</td><td>46.3842</td><td>significance</td></tr>\n",
       "<tr><td>3.15894</td><td>3.15894</td><td>2.50907</td><td>3.97713</td><td>2.43483e-12</td><td>21.6553</td><td>35.4904</td><td>significance</td></tr>\n",
       "<tr><td>5.00724</td><td>5.00724</td><td>3.97713</td><td>6.30416</td><td>1.9939e-12</td><td>17.2586</td><td>21.3522</td><td>significance</td></tr>\n",
       "<tr><td>7.937</td><td>7.937</td><td>6.30416</td><td>9.99275</td><td>1.84914e-12</td><td>14.3086</td><td>13.8711</td><td>significance</td></tr>\n",
       "<tr><td>12.581</td><td>12.581</td><td>9.99275</td><td>15.8395</td><td>1.78436e-12</td><td>11.8637</td><td>8.8902</td><td>significance</td></tr>\n",
       "<tr><td>19.9421</td><td>19.9421</td><td>15.8395</td><td>25.1073</td><td>1.72946e-12</td><td>9.53809</td><td>5.17697</td><td>significance</td></tr>\n",
       "<tr><td>31.6103</td><td>31.6103</td><td>25.1073</td><td>39.7976</td><td>1.72736e-12</td><td>7.27586</td><td>2.52146</td><td>significance</td></tr>\n",
       "<tr><td>50.1055</td><td>50.1055</td><td>39.7976</td><td>63.0833</td><td>2.0065e-12</td><td>5.83278</td><td>1.31864</td><td>significance</td></tr>\n",
       "<tr><td>79.4224</td><td>79.4224</td><td>63.0833</td><td>99.9935</td><td>2.38753e-12</td><td>5</td><td>0.672826</td><td>gamma</td></tr>\n",
       "<tr><td>125.893</td><td>125.893</td><td>99.9935</td><td>158.5</td><td>3.47577e-12</td><td>5</td><td>0.218417</td><td>gamma</td></tr>\n",
       "</table></div>"
      ],
      "text/plain": [
       "<Table length=12>\n",
       " energy   e_ref    e_min    e_max   ...  excess background  criterion  \n",
       "  TeV      TeV      TeV      TeV    ...                                \n",
       "float64  float64  float64  float64  ... float64  float64     bytes12   \n",
       "-------- -------- -------- -------- ... ------- ---------- ------------\n",
       "0.793175 0.793175     0.63 0.998615 ...       5   0.195085        gamma\n",
       " 1.25726  1.25726 0.998615  1.58291 ... 18.7406    25.7183 significance\n",
       " 1.99289  1.99289  1.58291  2.50907 ... 24.4614    46.3842 significance\n",
       " 3.15894  3.15894  2.50907  3.97713 ... 21.6553    35.4904 significance\n",
       " 5.00724  5.00724  3.97713  6.30416 ... 17.2586    21.3522 significance\n",
       "   7.937    7.937  6.30416  9.99275 ... 14.3086    13.8711 significance\n",
       "  12.581   12.581  9.99275  15.8395 ... 11.8637     8.8902 significance\n",
       " 19.9421  19.9421  15.8395  25.1073 ... 9.53809    5.17697 significance\n",
       " 31.6103  31.6103  25.1073  39.7976 ... 7.27586    2.52146 significance\n",
       " 50.1055  50.1055  39.7976  63.0833 ... 5.83278    1.31864 significance\n",
       " 79.4224  79.4224  63.0833  99.9935 ...       5   0.672826        gamma\n",
       " 125.893  125.893  99.9935    158.5 ...       5   0.218417        gamma"
      ]
     },
     "execution_count": 100,
     "metadata": {},
     "output_type": "execute_result"
    }
   ],
   "source": [
    "# Show the results table\n",
    "sensitivity_table"
   ]
  },
  {
   "cell_type": "code",
   "execution_count": 101,
   "id": "2f614b99",
   "metadata": {},
   "outputs": [],
   "source": [
    "# Save it to file (could use e.g. format of CSV or ECSV or FITS)\n",
    "# sensitivity_table.write('sensitivity.ecsv', format='ascii.ecsv')"
   ]
  },
  {
   "cell_type": "code",
   "execution_count": 102,
   "id": "75ed0c80",
   "metadata": {
    "nbsphinx-thumbnail": {
     "tooltip": "Estimate the CTA sensitivity for a point-like IRF at a fixed zenith angle and fixed offset."
    }
   },
   "outputs": [
    {
     "data": {
      "text/plain": [
       "<matplotlib.legend.Legend at 0x1491eac00>"
      ]
     },
     "execution_count": 102,
     "metadata": {},
     "output_type": "execute_result"
    },
    {
     "data": {
      "image/png": "[encoded data removed]",
      "text/plain": [
       "<Figure size 640x480 with 1 Axes>"
      ]
     },
     "metadata": {},
     "output_type": "display_data"
    }
   ],
   "source": [
    "# Plot the sensitivity curve\n",
    "t = sensitivity_table\n",
    "\n",
    "is_s = t[\"criterion\"] == \"significance\"\n",
    "plt.plot(\n",
    "    t[\"energy\"][is_s],\n",
    "    t[\"e2dnde\"][is_s],\n",
    "    \"s\",\n",
    "    color=\"red\",\n",
    "    label=\"significance\",\n",
    ")\n",
    "\n",
    "is_g = t[\"criterion\"] == \"gamma\"\n",
    "plt.plot(\n",
    "    t[\"energy\"][is_g], t[\"e2dnde\"][is_g], \"*\", color=\"blue\", label=\"gamma\"\n",
    ")\n",
    "is_bkg_syst = t[\"criterion\"] == \"bkg\"\n",
    "plt.plot(\n",
    "    t[\"energy\"][is_bkg_syst],\n",
    "    t[\"e2dnde\"][is_bkg_syst],\n",
    "    \"v\",\n",
    "    color=\"green\",\n",
    "    label=\"bkg syst\",\n",
    ")\n",
    "\n",
    "plt.loglog()\n",
    "plt.xlabel(f\"Energy ({t['energy'].unit})\")\n",
    "plt.ylabel(f\"Sensitivity ({t['e2dnde'].unit})\")\n",
    "\n",
    "plt.plot(SST1M_Energy,SST1M_Sensitivity,'oc-',label='Bastien/Jakub ?')\n",
    "plt.legend()"
   ]
  },
  {
   "cell_type": "markdown",
   "id": "63057abe",
   "metadata": {},
   "source": [
    "We add some control plots showing the expected number of background counts per bin and the ON region size cut (here the 68% containment radius of the PSF)."
   ]
  },
  {
   "cell_type": "code",
   "execution_count": 34,
   "id": "be2e0e81",
   "metadata": {},
   "outputs": [
    {
     "data": {
      "text/plain": [
       "(0.01, 0.5)"
      ]
     },
     "execution_count": 34,
     "metadata": {},
     "output_type": "execute_result"
    },
    {
     "data": {
      "image/png": "[encoded data removed]",
      "text/plain": [
       "<Figure size 640x480 with 2 Axes>"
      ]
     },
     "metadata": {},
     "output_type": "display_data"
    }
   ],
   "source": [
    "# Plot expected number of counts for signal and background\n",
    "fig, ax1 = plt.subplots()\n",
    "# ax1.plot( t[\"energy\"], t[\"excess\"],\"o-\", color=\"red\", label=\"signal\")\n",
    "ax1.plot(\n",
    "    t[\"energy\"], t[\"background\"], \"o-\", color=\"black\", label=\"blackground\"\n",
    ")\n",
    "\n",
    "ax1.loglog()\n",
    "ax1.set_xlabel(f\"Energy ({t['energy'].unit})\")\n",
    "ax1.set_ylabel(\"Expected number of bkg counts\")\n",
    "\n",
    "ax2 = ax1.twinx()\n",
    "ax2.set_ylabel(f\"ON region radius ({on_radii.unit})\", color=\"red\")\n",
    "ax2.semilogy(t[\"energy\"], on_radii, color=\"red\", label=\"PSF68\")\n",
    "ax2.tick_params(axis=\"y\", labelcolor=\"red\")\n",
    "ax2.set_ylim(0.01, 0.5)"
   ]
  },
  {
   "cell_type": "code",
   "execution_count": null,
   "id": "66a71a84",
   "metadata": {},
   "outputs": [],
   "source": []
  }
 ],
 "metadata": {
  "kernelspec": {
   "display_name": "Python 3 (ipykernel)",
   "language": "python",
   "name": "python3"
  },
  "language_info": {
   "codemirror_mode": {
    "name": "ipython",
    "version": 3
   },
   "file_extension": ".py",
   "mimetype": "text/x-python",
   "name": "python",
   "nbconvert_exporter": "python",
   "pygments_lexer": "ipython3",
   "version": "3.12.3"
  }
 },
 "nbformat": 4,
 "nbformat_minor": 5
}
